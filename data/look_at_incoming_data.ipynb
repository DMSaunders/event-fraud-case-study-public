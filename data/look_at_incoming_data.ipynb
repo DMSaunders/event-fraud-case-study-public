{
 "cells": [
  {
   "cell_type": "code",
   "execution_count": 16,
   "metadata": {},
   "outputs": [],
   "source": [
    "import requests\n",
    "api_key = 'vYm9mTUuspeyAWH1v-acfoTlck-tCxwTw9YfCynC'\n",
    "url = 'https://hxobin8em5.execute-api.us-west-2.amazonaws.com/api/'\n",
    "sequence_number = 0"
   ]
  },
  {
   "cell_type": "code",
   "execution_count": 17,
   "metadata": {},
   "outputs": [],
   "source": [
    "response = requests.post(url, json={'api_key': api_key,\n",
    "                                    'sequence_number': sequence_number})"
   ]
  },
  {
   "cell_type": "code",
   "execution_count": 18,
   "metadata": {},
   "outputs": [],
   "source": [
    "raw_data = response.json()"
   ]
  },
  {
   "cell_type": "code",
   "execution_count": 19,
   "metadata": {},
   "outputs": [
    {
     "data": {
      "text/plain": [
       "{'_next_sequence_number': 2533,\n",
       " 'data': [{'body_length': 0,\n",
       "   'channels': 5,\n",
       "   'country': 'US',\n",
       "   'currency': 'USD',\n",
       "   'delivery_method': 0.0,\n",
       "   'description': '',\n",
       "   'email_domain': 'gmail.com',\n",
       "   'event_created': 1363802941,\n",
       "   'event_end': 1364711400,\n",
       "   'event_published': 1363803586.0,\n",
       "   'event_start': 1364688000,\n",
       "   'fb_published': 0,\n",
       "   'has_analytics': 0,\n",
       "   'has_header': None,\n",
       "   'has_logo': 1,\n",
       "   'listed': 'y',\n",
       "   'name': 'The Afropolitan Fashion Show',\n",
       "   'name_length': 28,\n",
       "   'object_id': 5919763,\n",
       "   'org_desc': '',\n",
       "   'org_facebook': 0.0,\n",
       "   'org_name': 'HeadThinkers',\n",
       "   'org_twitter': 0.0,\n",
       "   'payee_name': '',\n",
       "   'payout_type': '',\n",
       "   'previous_payouts': [],\n",
       "   'sale_duration': 10.0,\n",
       "   'show_map': 1,\n",
       "   'ticket_types': [{'event_id': 5919763,\n",
       "     'cost': 329.76,\n",
       "     'availability': 1,\n",
       "     'quantity_total': 200},\n",
       "    {'event_id': 5919763,\n",
       "     'cost': 960.05,\n",
       "     'availability': 1,\n",
       "     'quantity_total': 100}],\n",
       "   'user_age': 0,\n",
       "   'user_created': 1363802940,\n",
       "   'user_type': 1,\n",
       "   'venue_address': '301 Park Avenue',\n",
       "   'venue_country': 'US',\n",
       "   'venue_latitude': 40.7567283,\n",
       "   'venue_longitude': -73.9740641,\n",
       "   'venue_name': 'The Waldorf Astoria NY',\n",
       "   'venue_state': 'NY'}]}"
      ]
     },
     "execution_count": 19,
     "metadata": {},
     "output_type": "execute_result"
    }
   ],
   "source": [
    "raw_data"
   ]
  },
  {
   "cell_type": "code",
   "execution_count": null,
   "metadata": {},
   "outputs": [],
   "source": [
    "def data_clean():\n",
    "\n",
    "    #Keep relevant columns\n",
    "    keep = ['Fraud','delivery_method', 'event_created', 'event_end',\n",
    "            'event_published', 'event_start', 'fb_published', 'has_analytics',\n",
    "            'has_header', 'has_logo', 'object_id', 'org_facebook', 'org_twitter',\n",
    "            'show_map', 'user_age', 'user_created', 'user_type', 'venue_latitude',\n",
    "            'venue_longitude']\n",
    "    \n",
    "    # drop rows with missing values\n",
    "    data = data.dropna(axis=1)\n",
    "\n",
    "    # create dummified categorical variables\n",
    "\n",
    "    return data"
   ]
  },
  {
   "cell_type": "code",
   "execution_count": 20,
   "metadata": {},
   "outputs": [],
   "source": [
    "    keep = ['Fraud','delivery_method', 'event_created', 'event_end',\n",
    "            'event_published', 'event_start', 'fb_published', 'has_analytics',\n",
    "            'has_header', 'has_logo', 'object_id', 'org_facebook', 'org_twitter',\n",
    "            'show_map', 'user_age', 'user_created', 'user_type', 'venue_latitude',\n",
    "            'venue_longitude']"
   ]
  },
  {
   "cell_type": "code",
   "execution_count": 28,
   "metadata": {},
   "outputs": [],
   "source": [
    "raw_data = raw_data['data'][0]"
   ]
  },
  {
   "cell_type": "code",
   "execution_count": 29,
   "metadata": {},
   "outputs": [
    {
     "data": {
      "text/plain": [
       "dict"
      ]
     },
     "execution_count": 29,
     "metadata": {},
     "output_type": "execute_result"
    }
   ],
   "source": [
    "def clean_data_point(data_point):\n",
    "    data_point = data_point['data'][0]\n",
    "    for key in data_point.keys():\n",
    "        if key not in keep:\n",
    "            d.pop(key)\n",
    "    return data_point"
   ]
  },
  {
   "cell_type": "code",
   "execution_count": 32,
   "metadata": {},
   "outputs": [
    {
     "data": {
      "text/plain": [
       "5"
      ]
     },
     "execution_count": 32,
     "metadata": {},
     "output_type": "execute_result"
    }
   ],
   "source": [
    "raw_data.pop('channels')"
   ]
  },
  {
   "cell_type": "code",
   "execution_count": 33,
   "metadata": {},
   "outputs": [
    {
     "data": {
      "text/plain": [
       "{'body_length': 0,\n",
       " 'country': 'US',\n",
       " 'currency': 'USD',\n",
       " 'delivery_method': 0.0,\n",
       " 'description': '',\n",
       " 'email_domain': 'gmail.com',\n",
       " 'event_created': 1363802941,\n",
       " 'event_end': 1364711400,\n",
       " 'event_published': 1363803586.0,\n",
       " 'event_start': 1364688000,\n",
       " 'fb_published': 0,\n",
       " 'has_analytics': 0,\n",
       " 'has_header': None,\n",
       " 'has_logo': 1,\n",
       " 'listed': 'y',\n",
       " 'name': 'The Afropolitan Fashion Show',\n",
       " 'name_length': 28,\n",
       " 'object_id': 5919763,\n",
       " 'org_desc': '',\n",
       " 'org_facebook': 0.0,\n",
       " 'org_name': 'HeadThinkers',\n",
       " 'org_twitter': 0.0,\n",
       " 'payee_name': '',\n",
       " 'payout_type': '',\n",
       " 'previous_payouts': [],\n",
       " 'sale_duration': 10.0,\n",
       " 'show_map': 1,\n",
       " 'ticket_types': [{'event_id': 5919763,\n",
       "   'cost': 329.76,\n",
       "   'availability': 1,\n",
       "   'quantity_total': 200},\n",
       "  {'event_id': 5919763,\n",
       "   'cost': 960.05,\n",
       "   'availability': 1,\n",
       "   'quantity_total': 100}],\n",
       " 'user_age': 0,\n",
       " 'user_created': 1363802940,\n",
       " 'user_type': 1,\n",
       " 'venue_address': '301 Park Avenue',\n",
       " 'venue_country': 'US',\n",
       " 'venue_latitude': 40.7567283,\n",
       " 'venue_longitude': -73.9740641,\n",
       " 'venue_name': 'The Waldorf Astoria NY',\n",
       " 'venue_state': 'NY'}"
      ]
     },
     "execution_count": 33,
     "metadata": {},
     "output_type": "execute_result"
    }
   ],
   "source": [
    "raw_data"
   ]
  },
  {
   "cell_type": "code",
   "execution_count": null,
   "metadata": {},
   "outputs": [],
   "source": []
  }
 ],
 "metadata": {
  "kernelspec": {
   "display_name": "Python 3",
   "language": "python",
   "name": "python3"
  },
  "language_info": {
   "codemirror_mode": {
    "name": "ipython",
    "version": 3
   },
   "file_extension": ".py",
   "mimetype": "text/x-python",
   "name": "python",
   "nbconvert_exporter": "python",
   "pygments_lexer": "ipython3",
   "version": "3.6.6"
  }
 },
 "nbformat": 4,
 "nbformat_minor": 2
}
