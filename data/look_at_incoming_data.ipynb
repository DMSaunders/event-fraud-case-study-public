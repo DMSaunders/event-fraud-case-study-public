{
 "cells": [
  {
   "cell_type": "code",
   "execution_count": 1,
   "metadata": {},
   "outputs": [],
   "source": [
    "import requests\n",
    "api_key = 'vYm9mTUuspeyAWH1v-acfoTlck-tCxwTw9YfCynC'\n",
    "url = 'https://hxobin8em5.execute-api.us-west-2.amazonaws.com/api/'\n",
    "sequence_number = 0"
   ]
  },
  {
   "cell_type": "code",
   "execution_count": 2,
   "metadata": {},
   "outputs": [],
   "source": [
    "response = requests.post(url, json={'api_key': api_key,\n",
    "                                    'sequence_number': sequence_number})"
   ]
  },
  {
   "cell_type": "code",
   "execution_count": 3,
   "metadata": {},
   "outputs": [],
   "source": [
    "raw_data = response.json()"
   ]
  },
  {
   "cell_type": "code",
   "execution_count": 6,
   "metadata": {},
   "outputs": [
    {
     "data": {
      "text/plain": [
       "{'_next_sequence_number': 2420,\n",
       " 'data': [{'body_length': 14320,\n",
       "   'channels': 11,\n",
       "   'country': 'CA',\n",
       "   'currency': 'CAD',\n",
       "   'delivery_method': 0.0,\n",
       "   'description': '<p>&nbsp;</p>\\r\\n<p class=\"MsoNormal\"><span style=\"font-size: small;\" lang=\"EN-CA\">Target Audience: &nbsp;&nbsp;&nbsp;&nbsp;&nbsp;&nbsp;&nbsp;&nbsp; Practicing pathologists, pathology residents, and technologists</span></p>\\r\\n<p>&nbsp;</p>\\r\\n<p class=\"MsoNormal\"><span style=\"font-size: small;\" lang=\"EN-CA\">Credits: &nbsp;&nbsp;&nbsp;&nbsp;&nbsp;&nbsp;&nbsp;&nbsp;&nbsp;&nbsp;&nbsp;&nbsp;&nbsp;&nbsp;&nbsp;&nbsp;&nbsp;&nbsp;&nbsp;&nbsp;</span></p>\\r\\n<p><em><span style=\"font-size: 14pt; line-height: 115%; font-family: Constantia; color: #002060;\" lang=\"EN-CA\">This event is an Accredited Group Learning Activity, Section 1, as defined by the Maintenance of Certification Program of The Royal College of Physicians and Surgeons of Canada, and&nbsp;co-developed by the Canadian Association of Pathologists and Cancer Care Ontario.</span></em><em><span style=\"font-size: 14pt; line-height: 115%; font-family: Constantia; color: #002060;\" lang=\"EN-CA\"><br /><em><span style=\"font-family: Constantia;\">This activity was approved by the Canadian Association of Pathologists for 15 Section 1 credits. </span></em></span></em><em><span style=\"font-size: 14pt; line-height: 115%; font-family: Constantia; color: #002060;\" lang=\"EN-CA\">Remember to visit MAINPORT to record your learning and outcomes.</span></em></p>\\r\\n<p class=\"MsoNormal\"><span style=\"font-size: small;\" lang=\"EN-CA\"><br /></span></p>\\r\\n<p>&nbsp;</p>\\r\\n<p class=\"MsoNormal\"><span lang=\"EN-CA\"><span style=\"font-size: small;\">Venue:&nbsp;&nbsp;&nbsp;&nbsp;&nbsp;&nbsp;&nbsp;&nbsp;&nbsp;&nbsp;&nbsp;&nbsp;&nbsp;&nbsp;&nbsp;&nbsp;&nbsp;&nbsp;&nbsp;&nbsp;&nbsp;&nbsp; Metropolitan Hotel, 108 Chestnut Street, Toronto, Ontario</span><span style=\"mso-tab-count: 1;\"><span style=\"font-size: small;\">&nbsp;&nbsp;&nbsp;&nbsp;</span>&nbsp;&nbsp; </span></span><span class=\"text121\"><strong><span style=\"font-size: 10pt; font-family: Arial; color: windowtext;\" lang=\"EN-CA\"><span>&nbsp;&nbsp;&nbsp;&nbsp;&nbsp;&nbsp;&nbsp;&nbsp;&nbsp;&nbsp;&nbsp; </span></span></strong></span></p>\\r\\n<p>&nbsp;</p>\\r\\n<p class=\"MsoNormal\" style=\"text-align: center;\" align=\"center\"><span class=\"text121\"><strong><span style=\"font-size: 14pt; font-family: Arial; color: #0000cc; text-transform: uppercase;\" lang=\"EN-CA\">&nbsp;</span></strong></span></p>\\r\\n<p>&nbsp;</p>\\r\\n<p class=\"MsoNormal\" style=\"text-align: center;\" align=\"center\"><span class=\"text121\"><strong><span style=\"font-size: 14pt; font-family: Arial; color: gray; text-transform: uppercase;\" lang=\"EN-CA\">Program&nbsp; </span></strong></span><strong></strong></p>\\r\\n<p>&nbsp;</p>\\r\\n<p class=\"MsoNormal\" style=\"text-align: center;\" align=\"center\"><strong><span style=\"font-size: 10pt; font-family: Arial; color: #0000cc;\" lang=\"EN-CA\">Thursday, April 25, 2013</span></strong></p>\\r\\n<p>&nbsp;</p>\\r\\n<p class=\"MsoNormal\" style=\"margin-left: 1in; text-indent: -1in;\"><span style=\"font-size: 10pt; font-family: Arial;\" lang=\"EN-CA\"><span style=\"font-size: 10pt; font-family: Arial; color: windowtext;\" lang=\"EN-CA\">&nbsp;</span> &nbsp; 8:00-8:05<span>&nbsp;&nbsp;&nbsp;&nbsp;&nbsp;&nbsp;&nbsp; </span>Welcome and Introductory Remarks: B Gilks and E Torlakovic</span></p>\\r\\n<p>&nbsp;</p>\\r\\n<p class=\"MsoNormal\"><span style=\"font-size: 10pt; font-family: Arial;\" lang=\"EN-CA\">&nbsp;&nbsp;&nbsp; 8:05-8:30<span>&nbsp;&nbsp;&nbsp;&nbsp;&nbsp;&nbsp;&nbsp; </span>CIQC update: E Torlakovic and J Garratt</span></p>\\r\\n<p>&nbsp;</p>\\r\\n<p class=\"MsoNormal\" style=\"margin-left: 1in; text-indent: -1in;\"><span style=\"font-size: 10pt; font-family: Arial;\" lang=\"EN-CA\">&nbsp;&nbsp; 8:30-9:15<span>&nbsp;&nbsp;&nbsp;&nbsp;&nbsp;&nbsp;&nbsp;&nbsp; </span>The NordiQC program: an overview<span class=\"text12\">: M Vyberg</span> </span></p>\\r\\n<p>&nbsp;</p>\\r\\n<p class=\"MsoNormal\" style=\"margin-left: 1in; text-indent: -1in;\"><span style=\"font-size: 10pt; font-family: Arial;\" lang=\"EN-CA\">&nbsp;9:15-10:00<span>&nbsp;&nbsp;&nbsp;&nbsp;&nbsp;&nbsp;&nbsp;&nbsp; </span>IHC Proficiency Testing in Germany: </span><span style=\"font-family: Arial; font-size: small;\" lang=\"EN-CA\">R von Wasielewski</span><span style=\"font-size: 10pt; font-family: Arial;\" lang=\"EN-CA\"><span><span style=\"font-size: small;\">&nbsp;&nbsp;&nbsp;</span>&nbsp;&nbsp;&nbsp;&nbsp;&nbsp; </span></span></p>\\r\\n<p>&nbsp;</p>\\r\\n<p class=\"MsoNormal\" style=\"margin-left: 1in; text-indent: -1in;\"><strong><span style=\"font-size: 10pt; font-family: Arial;\" lang=\"EN-CA\">10:00-10:30<span>&nbsp;&nbsp;&nbsp;&nbsp;&nbsp;&nbsp; </span>Break </span></strong></p>\\r\\n<p>&nbsp;</p>\\r\\n<p class=\"MsoNormal\"><span style=\"font-size: 10pt; font-family: Arial;\" lang=\"EN-CA\">10:30-11:00<span>&nbsp;&nbsp;&nbsp;&nbsp;&nbsp;&nbsp; </span>Technical approach to IHC testing: the NordiQC perspective: S Nielsen</span></p>\\r\\n<p>&nbsp;</p>\\r\\n<p class=\"MsoNormal\"><span style=\"font-size: 10pt; font-family: Arial;\" lang=\"EN-CA\">11:00-11:30<span>&nbsp;&nbsp;&nbsp;&nbsp;&nbsp;&nbsp; </span>MMR testing in Canada: CIQC results: B Clarke</span></p>\\r\\n<p>&nbsp;</p>\\r\\n<p class=\"MsoNormal\" style=\"margin-left: 1in; text-indent: -1in;\"><span style=\"font-size: 10pt; font-family: Arial;\" lang=\"EN-CA\">11:30-12:00<span>&nbsp;&nbsp;&nbsp;&nbsp;&nbsp;&nbsp; </span>Reflex MMR testing in Vancouver, one year in: R Wolber <br /></span></p>\\r\\n<p>&nbsp;</p>\\r\\n<p class=\"MsoNormal\" style=\"text-align: center;\" align=\"center\"><strong><span style=\"font-size: 10pt; font-family: Arial;\" lang=\"EN-CA\">12:00 &ndash; 1:00<span>&nbsp;&nbsp;&nbsp;&nbsp;&nbsp; </span>LUNCH</span></strong></p>\\r\\n<p>&nbsp;</p>\\r\\n<p class=\"MsoNormal\" style=\"margin-left: 1in; text-indent: -1in;\"><span style=\"font-size: 10pt; font-family: Arial;\" lang=\"EN-CA\">&nbsp;1:00-1:45<span>&nbsp;&nbsp;&nbsp;&nbsp;&nbsp;&nbsp;&nbsp;&nbsp;&nbsp;&nbsp; </span>Classification of the unknown primary tumour: the primary IHC panel: M Vyberg</span></p>\\r\\n<p>&nbsp;</p>\\r\\n<p class=\"MsoNormal\" style=\"margin-left: 1in; text-indent: -1in;\"><span style=\"font-size: 10pt; font-family: Arial;\" lang=\"EN-CA\">&nbsp;1:45-2:05<span>&nbsp;&nbsp;&nbsp;&nbsp;&nbsp;&nbsp;&nbsp;&nbsp;&nbsp;&nbsp; </span>Antibodies and protocols: the primary IHC panel<span class=\"text12\">: S Nielsen</span></span></p>\\r\\n<p>&nbsp;</p>\\r\\n<p class=\"MsoNormal\"><span style=\"font-size: 10pt; font-family: Arial;\" lang=\"EN-CA\">&nbsp;2:05-2:30<span>&nbsp;&nbsp;&nbsp;&nbsp;&nbsp;&nbsp;&nbsp;&nbsp;&nbsp;&nbsp; </span>Use of tissue samples for IHC quality control and research: C Cheung</span></p>\\r\\n<p>&nbsp;</p>\\r\\n<p class=\"MsoNormal\" style=\"margin-left: 1in; text-indent: -1in;\"><span style=\"font-size: 10pt; font-family: Arial;\" lang=\"EN-CA\">&nbsp;2:30-3:00 <span>&nbsp;&nbsp;&nbsp;&nbsp;&nbsp;&nbsp;&nbsp;&nbsp;&nbsp; </span>Update on Ki67 assessment in breast cancer; an international study: T Nielsen</span></p>\\r\\n<p>&nbsp;</p>\\r\\n<p class=\"MsoNormal\" style=\"margin-left: 1in; text-indent: -1in;\"><span style=\"font-size: 10pt; font-family: Arial;\" lang=\"EN-CA\">&nbsp;3:00-3:20<span> &nbsp;&nbsp;&nbsp;&nbsp;&nbsp;&nbsp;&nbsp;&nbsp; </span>Update on Class II tests in renal pathology: <em>M Mengel</em></span></p>\\r\\n<p>&nbsp;</p>\\r\\n<p class=\"MsoNormal\"><span style=\"font-size: 10pt; font-family: Arial;\" lang=\"EN-CA\">&nbsp;</span><strong><span style=\"font-size: 10pt; font-family: Arial;\" lang=\"EN-CA\">3:20-3:40<span>&nbsp;&nbsp;&nbsp;&nbsp;&nbsp;&nbsp;&nbsp;&nbsp;&nbsp;&nbsp; </span>Break</span></strong></p>\\r\\n<p>&nbsp;</p>\\r\\n<p class=\"MsoNormal\" style=\"margin-left: 1in; text-indent: -1in;\"><span class=\"text12\"><span style=\"font-size: 10pt; font-family: Arial;\" lang=\"EN-CA\">&nbsp;3:40-4:10<span>&nbsp;&nbsp;&nbsp;&nbsp;&nbsp;&nbsp;&nbsp;&nbsp;&nbsp;&nbsp; </span>New markers in hematopathology: E <span>Hyjek</span></span></span></p>\\r\\n<p>&nbsp;</p>\\r\\n<p class=\"MsoNormal\"><span style=\"font-size: 10pt; font-family: Arial;\" lang=\"EN-CA\">&nbsp;4:10-5:00<span>&nbsp;&nbsp;&nbsp;&nbsp;&nbsp;&nbsp;&nbsp;&nbsp;&nbsp;&nbsp; </span>Immunophenotyping of neuroendocrine tumors: current status and recent</span></p>\\r\\n<p>&nbsp;</p>\\r\\n<p class=\"MsoNormal\" style=\"margin-left: 9pt;\"><span style=\"font-size: 10pt; font-family: Arial;\" lang=\"EN-CA\"><span>&nbsp;&nbsp;&nbsp;&nbsp;&nbsp;&nbsp; </span><span>&nbsp;&nbsp;&nbsp;&nbsp;&nbsp;&nbsp;&nbsp;&nbsp;&nbsp;&nbsp;&nbsp;&nbsp;&nbsp;&nbsp; </span>developments: S Asa</span></p>\\r\\n<p>&nbsp;</p>\\r\\n<p class=\"MsoNormal\"><span style=\"font-size: 10pt; font-family: Arial;\" lang=\"EN-CA\">&nbsp;5:00 <span>&nbsp;&nbsp;&nbsp;&nbsp;&nbsp;&nbsp;&nbsp;&nbsp;&nbsp;&nbsp;&nbsp;&nbsp;&nbsp;&nbsp;&nbsp;&nbsp; </span>Adjourn</span></p>\\r\\n<p class=\"MsoNormal\"><span style=\"font-size: 10pt; font-family: Arial;\" lang=\"EN-CA\"><br /></span></p>\\r\\n<p>&nbsp;</p>\\r\\n<p>&nbsp;</p>\\r\\n<p class=\"MsoNormal\" style=\"text-align: center;\" align=\"center\"><span style=\"font-size: small;\"><strong><span style=\"font-family: Arial; color: #0000cc;\" lang=\"EN-CA\">Friday, April 26, 2013</span></strong></span></p>\\r\\n<p>&nbsp;</p>\\r\\n<p class=\"MsoNormal\" style=\"margin-left: 1in; text-indent: -1in;\"><span style=\"font-size: 10pt; font-family: Arial;\" lang=\"EN-CA\">&nbsp;8:00-9:00<span>&nbsp;&nbsp;&nbsp;&nbsp;&nbsp;&nbsp;&nbsp;&nbsp;&nbsp;&nbsp; </span>IHC as a Window onto the Molecular Biology of Tumors: A Gown</span></p>\\r\\n<p>&nbsp;</p>\\r\\n<p class=\"MsoNormal\" style=\"margin-left: 1in; text-indent: -1in;\"><span style=\"font-size: 10pt; font-family: Arial;\" lang=\"EN-CA\">&nbsp;9:00-9:30<span>&nbsp;&nbsp;&nbsp;&nbsp;&nbsp;&nbsp;&nbsp;&nbsp;&nbsp;&nbsp; </span>IHC and molecular <span>testing</span> in diagnosis of ovarian sex-cord stromal tumors: B Gilks</span></p>\\r\\n<p>&nbsp;</p>\\r\\n<p class=\"MsoNormal\" style=\"margin-left: 1in; text-indent: -1in;\"><span style=\"font-size: 10pt; font-family: Arial;\" lang=\"EN-CA\">&nbsp;</span><strong><span style=\"font-size: 10pt; font-family: Arial;\" lang=\"EN-CA\">9:30-10:00<span>&nbsp;&nbsp;&nbsp;&nbsp;&nbsp;&nbsp;&nbsp;&nbsp; </span>Break</span></strong></p>\\r\\n<p>&nbsp;</p>\\r\\n<p class=\"MsoNormal\" style=\"margin-left: 1in; text-indent: -1in;\"><span style=\"font-size: 10pt; font-family: Arial;\" lang=\"EN-CA\">10:00-10:55 <span>&nbsp;&nbsp;&nbsp;&nbsp;&nbsp;&nbsp;</span></span><span style=\"font-family: arial,helvetica,sans-serif; font-size: small;\">Critical Technical Aspects of Diagnostic Immunohistochemistry</span><span style=\"font-size: 10pt; font-family: Arial;\" lang=\"EN-CA\"><span style=\"font-family: arial,helvetica,sans-serif; font-size: small;\">:</span> R Miller<span>&nbsp;&nbsp;&nbsp; </span></span></p>\\r\\n<p>&nbsp;</p>\\r\\n<p class=\"MsoNormal\" style=\"margin-left: 1in; text-indent: -1in;\"><span style=\"font-size: 10pt; font-family: Arial;\" lang=\"EN-CA\">10:55-11:40<span>&nbsp;&nbsp;&nbsp;&nbsp;&nbsp;&nbsp; </span>Cytokeratins and other general epithelial markers in diagnostic IHC:<span>&nbsp; </span>M Vyberg </span></p>\\r\\n<p>&nbsp;</p>\\r\\n<p class=\"MsoNormal\" style=\"margin-left: 1in; text-indent: -1in;\"><span style=\"font-size: 10pt; font-family: Arial;\" lang=\"EN-CA\">11:40-12:00 <span>&nbsp;&nbsp;&nbsp;&nbsp;&nbsp; </span>Antibodies and protocols - epithelial markers: S Nielsen </span></p>\\r\\n<p>&nbsp;</p>\\r\\n<p class=\"MsoNormal\" style=\"text-align: center;\" align=\"center\"><span style=\"font-size: 10pt; font-family: Arial;\" lang=\"EN-CA\">&nbsp;</span><strong><span style=\"font-size: 10pt; font-family: Arial;\" lang=\"EN-CA\">12:00 &ndash; 1:00<span>&nbsp;&nbsp;&nbsp;&nbsp;&nbsp; </span>LUNCH</span></strong></p>\\r\\n<p>&nbsp;</p>\\r\\n<p class=\"MsoNormal\"><span style=\"font-size: 10pt; font-family: Arial;\" lang=\"EN-CA\">&nbsp;</span><strong><span style=\"font-size: 10pt; font-family: Arial;\" lang=\"EN-CA\">1:00-5:00<span>&nbsp;&nbsp;&nbsp;&nbsp;&nbsp;&nbsp;&nbsp;&nbsp;&nbsp; </span><span style=\"color: #0000cc;\">Specialty Course: Molecular Pathology</span></span></strong></p>\\r\\n<p>&nbsp;</p>\\r\\n<p class=\"MsoNormal\" style=\"margin-left: 0.5in; text-indent: 0.5in;\"><strong><span style=\"font-size: 10pt; font-family: Arial;\" lang=\"EN-CA\">Review of Molecular Pathology in Caner Diagnosis and Therapy</span></strong></p>\\r\\n<p>&nbsp;</p>\\r\\n<p class=\"MsoNormal\" style=\"margin-left: 0.5in; text-indent: 0.5in;\"><strong><span style=\"font-size: 10pt; font-family: Arial;\" lang=\"EN-CA\">M Tsao (moderator)</span></strong></p>\\r\\n<p>&nbsp;</p>\\r\\n<p class=\"MsoNormal\"><span style=\"font-size: 10pt; font-family: Arial;\" lang=\"EN-CA\">1:00-1:10<span>&nbsp;&nbsp;&nbsp;&nbsp;&nbsp;&nbsp;&nbsp;&nbsp;&nbsp;&nbsp; </span>Introductory Remarks: D LeBrun</span></p>\\r\\n<p>&nbsp;</p>\\r\\n<p class=\"MsoNormal\"><span style=\"font-size: 10pt; font-family: Arial;\" lang=\"EN-CA\">1:10 &ndash; 1:50<span>&nbsp;&nbsp;&nbsp;&nbsp;&nbsp;&nbsp;&nbsp; </span>Lung: M Tsao</span></p>\\r\\n<p>&nbsp;</p>\\r\\n<p class=\"MsoNormal\"><span style=\"font-size: 10pt; font-family: Arial;\" lang=\"EN-CA\">1:50 &ndash; 2:20<span>&nbsp;&nbsp;&nbsp;&nbsp;&nbsp;&nbsp;&nbsp; </span>Prostate: D Trudel<span>&nbsp;&nbsp;&nbsp;&nbsp;&nbsp;&nbsp;&nbsp;&nbsp;&nbsp;&nbsp;&nbsp;&nbsp;&nbsp;&nbsp;&nbsp;&nbsp;&nbsp;&nbsp;&nbsp;&nbsp;&nbsp;&nbsp;&nbsp;&nbsp;&nbsp;&nbsp;&nbsp;&nbsp;&nbsp;&nbsp;&nbsp;&nbsp;&nbsp; </span></span></p>\\r\\n<p>&nbsp;</p>\\r\\n<p class=\"MsoNormal\"><span style=\"font-size: 10pt; font-family: Arial;\" lang=\"EN-CA\">2:20 &ndash; 3:00<span>&nbsp;&nbsp;&nbsp;&nbsp;&nbsp;&nbsp;&nbsp; </span>Lymphomas: D LeBrun</span></p>\\r\\n<p>&nbsp;</p>\\r\\n<p class=\"MsoNormal\"><strong><span style=\"font-size: 10pt; font-family: Arial; color: black;\" lang=\"EN-CA\">3:00 &ndash; 3:15<span>&nbsp;&nbsp;&nbsp;&nbsp;&nbsp;&nbsp;&nbsp; </span>Break</span></strong></p>\\r\\n<p>&nbsp;</p>\\r\\n<p class=\"MsoNormal\"><span style=\"font-size: 10pt; font-family: Arial;\" lang=\"EN-CA\">3:15 &ndash; 4:00<span>&nbsp;&nbsp;&nbsp;&nbsp;&nbsp;&nbsp;&nbsp; </span>Breast: S Done<br /></span></p>\\r\\n<p>&nbsp;</p>\\r\\n<p class=\"MsoNormal\"><span style=\"font-size: 10pt; font-family: Arial;\" lang=\"EN-CA\">4:00 &ndash; 4:45<span>&nbsp;&nbsp;&nbsp;&nbsp;&nbsp;&nbsp;&nbsp; </span>Theranostic and morphoproteomics: E Torlakovic<span>&nbsp;&nbsp;&nbsp;&nbsp;&nbsp;&nbsp;&nbsp;&nbsp;&nbsp;&nbsp;&nbsp;&nbsp;&nbsp;&nbsp;&nbsp;&nbsp;&nbsp;&nbsp;&nbsp;&nbsp;&nbsp; </span></span></p>\\r\\n<p>&nbsp;</p>\\r\\n<p class=\"MsoNormal\"><span style=\"font-size: 10pt; font-family: Arial;\" lang=\"EN-CA\">4:45 &ndash; 5:00<span>&nbsp;&nbsp;&nbsp;&nbsp;&nbsp;&nbsp;&nbsp; </span>Closing remarks: M Tsao</span></p>\\r\\n<p>&nbsp;</p>\\r\\n<p class=\"MsoNormal\"><span style=\"font-size: 10pt; font-family: Arial;\" lang=\"EN-CA\">&nbsp;</span></p>\\r\\n<p>&nbsp;</p>\\r\\n<p class=\"MsoNormal\"><span style=\"font-size: 10pt; font-family: Arial;\" lang=\"EN-CA\">&nbsp;</span></p>\\r\\n<p>&nbsp;</p>',\n",
       "   'email_domain': 'uhn.ca',\n",
       "   'event_created': 1351190586,\n",
       "   'event_end': 1366977600,\n",
       "   'event_published': 1352768151.0,\n",
       "   'event_start': 1366898400,\n",
       "   'fb_published': 0,\n",
       "   'has_analytics': 0,\n",
       "   'has_header': None,\n",
       "   'has_logo': 1,\n",
       "   'listed': 'y',\n",
       "   'name': 'CIQC/CAP-ACP SEMINAR: DIAGNOSTIC IMMUNOHISTOCHEMISTRY & MOLECULAR PATHOLOGY',\n",
       "   'name_length': 75,\n",
       "   'object_id': 4683763,\n",
       "   'org_desc': '<p>The Canadian Immunohistochemistry (IHC) Quality Control Academic Program builds on existing work to systematically monitor and improve the proficiency of IHC testing laboratories, and those involved with IHC testing nationwide. Creation of this Canada-wide quality-assessment program will facilitate participation by IHC labs nationwide and, eventually, by international stakeholders, regardless of jurisdiction or existing accreditation requirements.&nbsp;</p>',\n",
       "   'org_facebook': 0.0,\n",
       "   'org_name': 'CIQC/CAP-ACP',\n",
       "   'org_twitter': 0.0,\n",
       "   'payee_name': '',\n",
       "   'payout_type': 'ACH',\n",
       "   'previous_payouts': [],\n",
       "   'sale_duration': 164.0,\n",
       "   'show_map': 1,\n",
       "   'ticket_types': [{'event_id': 4683763,\n",
       "     'cost': 400.17,\n",
       "     'availability': 1,\n",
       "     'quantity_total': 80},\n",
       "    {'event_id': 4683763,\n",
       "     'cost': 201.11,\n",
       "     'availability': 1,\n",
       "     'quantity_total': 70}],\n",
       "   'user_age': 0,\n",
       "   'user_created': 1351190584,\n",
       "   'user_type': 1,\n",
       "   'venue_address': '108 Chestnut St',\n",
       "   'venue_country': 'CA',\n",
       "   'venue_latitude': 43.6539392,\n",
       "   'venue_longitude': -79.385319,\n",
       "   'venue_name': 'Metropolitan Hotel',\n",
       "   'venue_state': 'ON'}]}"
      ]
     },
     "execution_count": 6,
     "metadata": {},
     "output_type": "execute_result"
    }
   ],
   "source": [
    "raw_data"
   ]
  },
  {
   "cell_type": "code",
   "execution_count": null,
   "metadata": {},
   "outputs": [],
   "source": []
  }
 ],
 "metadata": {
  "kernelspec": {
   "display_name": "Python 3",
   "language": "python",
   "name": "python3"
  },
  "language_info": {
   "codemirror_mode": {
    "name": "ipython",
    "version": 3
   },
   "file_extension": ".py",
   "mimetype": "text/x-python",
   "name": "python",
   "nbconvert_exporter": "python",
   "pygments_lexer": "ipython3",
   "version": "3.6.6"
  }
 },
 "nbformat": 4,
 "nbformat_minor": 2
}
