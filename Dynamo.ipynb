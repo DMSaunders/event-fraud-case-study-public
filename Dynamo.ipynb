{
 "cells": [
  {
   "cell_type": "code",
   "execution_count": 31,
   "metadata": {},
   "outputs": [],
   "source": [
    "import requests\n",
    "api_key = 'vYm9mTUuspeyAWH1v-acfoTlck-tCxwTw9YfCynC'\n",
    "url = 'https://hxobin8em5.execute-api.us-west-2.amazonaws.com/api/'\n",
    "sequence_number = 0\n",
    "response = requests.post(url, json={'api_key': api_key,\n",
    "                                    'sequence_number': sequence_number})\n",
    "raw_data = response.json()"
   ]
  },
  {
   "cell_type": "code",
   "execution_count": 32,
   "metadata": {},
   "outputs": [
    {
     "name": "stdout",
     "output_type": "stream",
     "text": [
      "2018-11-02 12:32:00.078000-07:00\n"
     ]
    }
   ],
   "source": [
    "import boto3\n",
    "\n",
    "dynamo = boto3.resource('dynamodb')\n",
    "\n",
    "table = dynamo.Table('fraud_detection')\n",
    "\n",
    "table.item_count\n",
    "\n",
    "print(table.creation_date_time)"
   ]
  },
  {
   "cell_type": "code",
   "execution_count": 33,
   "metadata": {},
   "outputs": [],
   "source": [
    "import json\n",
    "from boto3.dynamodb.conditions import Key, Attr"
   ]
  },
  {
   "cell_type": "code",
   "execution_count": 34,
   "metadata": {},
   "outputs": [],
   "source": [
    "# convert floats to string\n",
    "json_str = json.dumps(raw_data['data'][0])\n",
    "item = json.loads(json_str, parse_float=str)"
   ]
  },
  {
   "cell_type": "code",
   "execution_count": 35,
   "metadata": {},
   "outputs": [],
   "source": [
    "# recursively delete empty strings\n",
    "def del_empty(d):\n",
    "    \"\"\"\n",
    "    Delete keys with the value ``None`` in a dictionary, recursively.\n",
    "\n",
    "    This alters the input so you may wish to ``copy`` the dict first.\n",
    "    \"\"\"\n",
    "    # For Python 3, write `list(d.items())`; `d.items()` won't work\n",
    "    # For Python 2, write `d.items()`; `d.iteritems()` won't work\n",
    "    for key, value in list(d.items()):\n",
    "        if value == '':\n",
    "            del d[key]\n",
    "        elif isinstance(value, dict):\n",
    "            del_empty(value)\n",
    "    return d  # For convenience"
   ]
  },
  {
   "cell_type": "markdown",
   "metadata": {},
   "source": [
    "Adding an item to the database"
   ]
  },
  {
   "cell_type": "code",
   "execution_count": 36,
   "metadata": {},
   "outputs": [
    {
     "data": {
      "text/plain": [
       "{'ResponseMetadata': {'RequestId': 'N2FM1448B2O17K0P18Q39FTM87VV4KQNSO5AEMVJF66Q9ASUAAJG',\n",
       "  'HTTPStatusCode': 200,\n",
       "  'HTTPHeaders': {'server': 'Server',\n",
       "   'date': 'Fri, 02 Nov 2018 20:58:56 GMT',\n",
       "   'content-type': 'application/x-amz-json-1.0',\n",
       "   'content-length': '2',\n",
       "   'connection': 'keep-alive',\n",
       "   'x-amzn-requestid': 'N2FM1448B2O17K0P18Q39FTM87VV4KQNSO5AEMVJF66Q9ASUAAJG',\n",
       "   'x-amz-crc32': '2745614147'},\n",
       "  'RetryAttempts': 0}}"
      ]
     },
     "execution_count": 36,
     "metadata": {},
     "output_type": "execute_result"
    }
   ],
   "source": [
    "table.put_item(\n",
    "   Item=\n",
    "        del_empty(item)\n",
    ")"
   ]
  },
  {
   "cell_type": "markdown",
   "metadata": {},
   "source": [
    "Query data"
   ]
  },
  {
   "cell_type": "code",
   "execution_count": 39,
   "metadata": {},
   "outputs": [
    {
     "data": {
      "text/plain": [
       "[{'currency': 'CAD',\n",
       "  'venue_state': 'Ontario',\n",
       "  'delivery_method': '1.0',\n",
       "  'email_domain': 'jillstable.ca',\n",
       "  'user_type': Decimal('3'),\n",
       "  'sale_duration': '26.0',\n",
       "  'show_map': Decimal('1'),\n",
       "  'country': 'US',\n",
       "  'name': 'Asian Favourites and More!',\n",
       "  'venue_latitude': '42.9819374',\n",
       "  'previous_payouts': [],\n",
       "  'listed': 'y',\n",
       "  'has_logo': Decimal('1'),\n",
       "  'venue_address': '115 King Street',\n",
       "  'org_desc': '<p><span style=\"color: #838383; font-family: Arial, sans-serif; font-size: 13px; line-height: 20.15625px;\">Located at 115 King Street, Jill\\'s Table is a business that offers specialty foods, kitchenwares, tablewares, cooking classes and gift baskets. In short - a destination for the food lover. It is owned and operated by Jill Wilcox.</span></p>',\n",
       "  'org_name': \"Jill's Table\",\n",
       "  'venue_name': \"Jill's Table\",\n",
       "  'event_start': Decimal('1365125400'),\n",
       "  'venue_longitude': '-81.2508678',\n",
       "  'event_published': '1362879729.0',\n",
       "  'has_header': '0.0',\n",
       "  'user_age': Decimal('18'),\n",
       "  'venue_country': 'CA',\n",
       "  'fb_published': Decimal('0'),\n",
       "  'user_created': Decimal('1361318524'),\n",
       "  'ticket_types': [{'quantity_total': Decimal('18'),\n",
       "    'event_id': Decimal('5766237'),\n",
       "    'cost': '74.21',\n",
       "    'availability': Decimal('1')}],\n",
       "  'org_facebook': '10.0',\n",
       "  'event_end': Decimal('1365136200'),\n",
       "  'payout_type': 'ACH',\n",
       "  'channels': Decimal('4'),\n",
       "  'event_created': Decimal('1362879006'),\n",
       "  'object_id': Decimal('5766237'),\n",
       "  'name_length': Decimal('26'),\n",
       "  'has_analytics': Decimal('1'),\n",
       "  'description': '<p><span lang=\"EN-US\">Jill and her family love all kinds of Asian food. In this class Jill shares some of her family &ldquo;essential&rdquo; dishes, and provide tips on other great dishes using leftovers. She&rsquo;ll make Teriyaki salmon with steamed rice, Korean flank steak and Thai roast chicken. From those key dishes, she&rsquo;ll demonstrate how to make a fabulous Asian spinach salad with salmon in a sesame-soy dressing, beef fresh rolls with organic greens accompanied by a spicy dipping sauce. Last is a super easy &ldquo;Pad Thai&rdquo; chicken pasta. </span></p>',\n",
       "  'org_twitter': '10.0',\n",
       "  'body_length': Decimal('575')}]"
      ]
     },
     "execution_count": 39,
     "metadata": {},
     "output_type": "execute_result"
    }
   ],
   "source": [
    "response = table.query(KeyConditionExpression=Key('object_id').eq(item['object_id']))\n",
    "items = response['Items']\n",
    "items"
   ]
  },
  {
   "cell_type": "code",
   "execution_count": 38,
   "metadata": {},
   "outputs": [
    {
     "name": "stdout",
     "output_type": "stream",
     "text": [
      "{'body_length': 575, 'channels': 4, 'country': 'US', 'currency': 'CAD', 'delivery_method': '1.0', 'description': '<p><span lang=\"EN-US\">Jill and her family love all kinds of Asian food. In this class Jill shares some of her family &ldquo;essential&rdquo; dishes, and provide tips on other great dishes using leftovers. She&rsquo;ll make Teriyaki salmon with steamed rice, Korean flank steak and Thai roast chicken. From those key dishes, she&rsquo;ll demonstrate how to make a fabulous Asian spinach salad with salmon in a sesame-soy dressing, beef fresh rolls with organic greens accompanied by a spicy dipping sauce. Last is a super easy &ldquo;Pad Thai&rdquo; chicken pasta. </span></p>', 'email_domain': 'jillstable.ca', 'event_created': 1362879006, 'event_end': 1365136200, 'event_published': '1362879729.0', 'event_start': 1365125400, 'fb_published': 0, 'has_analytics': 1, 'has_header': '0.0', 'has_logo': 1, 'listed': 'y', 'name': 'Asian Favourites and More!', 'name_length': 26, 'object_id': 5766237, 'org_desc': '<p><span style=\"color: #838383; font-family: Arial, sans-serif; font-size: 13px; line-height: 20.15625px;\">Located at 115 King Street, Jill\\'s Table is a business that offers specialty foods, kitchenwares, tablewares, cooking classes and gift baskets. In short - a destination for the food lover. It is owned and operated by Jill Wilcox.</span></p>', 'org_facebook': '10.0', 'org_name': \"Jill's Table\", 'org_twitter': '10.0', 'payout_type': 'ACH', 'previous_payouts': [], 'sale_duration': '26.0', 'show_map': 1, 'ticket_types': [{'event_id': 5766237, 'cost': '74.21', 'availability': 1, 'quantity_total': 18}], 'user_age': 18, 'user_created': 1361318524, 'user_type': 3, 'venue_address': '115 King Street', 'venue_country': 'CA', 'venue_latitude': '42.9819374', 'venue_longitude': '-81.2508678', 'venue_name': \"Jill's Table\", 'venue_state': 'Ontario'}\n"
     ]
    }
   ],
   "source": [
    "print (del_empty(item))"
   ]
  },
  {
   "cell_type": "code",
   "execution_count": 41,
   "metadata": {},
   "outputs": [],
   "source": [
    "sitem = json.dumps(item)\n",
    "jitem = json.loads(sitem)"
   ]
  },
  {
   "cell_type": "code",
   "execution_count": 42,
   "metadata": {},
   "outputs": [
    {
     "data": {
      "text/plain": [
       "{'body_length': 575,\n",
       " 'channels': 4,\n",
       " 'country': 'US',\n",
       " 'currency': 'CAD',\n",
       " 'delivery_method': '1.0',\n",
       " 'description': '<p><span lang=\"EN-US\">Jill and her family love all kinds of Asian food. In this class Jill shares some of her family &ldquo;essential&rdquo; dishes, and provide tips on other great dishes using leftovers. She&rsquo;ll make Teriyaki salmon with steamed rice, Korean flank steak and Thai roast chicken. From those key dishes, she&rsquo;ll demonstrate how to make a fabulous Asian spinach salad with salmon in a sesame-soy dressing, beef fresh rolls with organic greens accompanied by a spicy dipping sauce. Last is a super easy &ldquo;Pad Thai&rdquo; chicken pasta. </span></p>',\n",
       " 'email_domain': 'jillstable.ca',\n",
       " 'event_created': 1362879006,\n",
       " 'event_end': 1365136200,\n",
       " 'event_published': '1362879729.0',\n",
       " 'event_start': 1365125400,\n",
       " 'fb_published': 0,\n",
       " 'has_analytics': 1,\n",
       " 'has_header': '0.0',\n",
       " 'has_logo': 1,\n",
       " 'listed': 'y',\n",
       " 'name': 'Asian Favourites and More!',\n",
       " 'name_length': 26,\n",
       " 'object_id': 5766237,\n",
       " 'org_desc': '<p><span style=\"color: #838383; font-family: Arial, sans-serif; font-size: 13px; line-height: 20.15625px;\">Located at 115 King Street, Jill\\'s Table is a business that offers specialty foods, kitchenwares, tablewares, cooking classes and gift baskets. In short - a destination for the food lover. It is owned and operated by Jill Wilcox.</span></p>',\n",
       " 'org_facebook': '10.0',\n",
       " 'org_name': \"Jill's Table\",\n",
       " 'org_twitter': '10.0',\n",
       " 'payout_type': 'ACH',\n",
       " 'previous_payouts': [],\n",
       " 'sale_duration': '26.0',\n",
       " 'show_map': 1,\n",
       " 'ticket_types': [{'event_id': 5766237,\n",
       "   'cost': '74.21',\n",
       "   'availability': 1,\n",
       "   'quantity_total': 18}],\n",
       " 'user_age': 18,\n",
       " 'user_created': 1361318524,\n",
       " 'user_type': 3,\n",
       " 'venue_address': '115 King Street',\n",
       " 'venue_country': 'CA',\n",
       " 'venue_latitude': '42.9819374',\n",
       " 'venue_longitude': '-81.2508678',\n",
       " 'venue_name': \"Jill's Table\",\n",
       " 'venue_state': 'Ontario'}"
      ]
     },
     "execution_count": 42,
     "metadata": {},
     "output_type": "execute_result"
    }
   ],
   "source": [
    "jitem"
   ]
  },
  {
   "cell_type": "code",
   "execution_count": null,
   "metadata": {},
   "outputs": [],
   "source": [
    "response = table.scan(\n",
    "    FilterExpression=Attr('address.state').eq('CA')\n",
    ")\n",
    "items = response['Items']\n",
    "print(items)"
   ]
  },
  {
   "cell_type": "code",
   "execution_count": 43,
   "metadata": {},
   "outputs": [],
   "source": [
    "x = table.scan()"
   ]
  },
  {
   "cell_type": "code",
   "execution_count": 52,
   "metadata": {},
   "outputs": [
    {
     "data": {
      "text/plain": [
       "[{'currency': 'CAD',\n",
       "  'venue_state': 'Ontario',\n",
       "  'delivery_method': '1.0',\n",
       "  'email_domain': 'jillstable.ca',\n",
       "  'user_type': Decimal('3'),\n",
       "  'sale_duration': '26.0',\n",
       "  'show_map': Decimal('1'),\n",
       "  'country': 'US',\n",
       "  'name': 'Asian Favourites and More!',\n",
       "  'venue_latitude': '42.9819374',\n",
       "  'previous_payouts': [],\n",
       "  'listed': 'y',\n",
       "  'has_logo': Decimal('1'),\n",
       "  'venue_address': '115 King Street',\n",
       "  'org_desc': '<p><span style=\"color: #838383; font-family: Arial, sans-serif; font-size: 13px; line-height: 20.15625px;\">Located at 115 King Street, Jill\\'s Table is a business that offers specialty foods, kitchenwares, tablewares, cooking classes and gift baskets. In short - a destination for the food lover. It is owned and operated by Jill Wilcox.</span></p>',\n",
       "  'org_name': \"Jill's Table\",\n",
       "  'venue_name': \"Jill's Table\",\n",
       "  'event_start': Decimal('1365125400'),\n",
       "  'venue_longitude': '-81.2508678',\n",
       "  'event_published': '1362879729.0',\n",
       "  'has_header': '0.0',\n",
       "  'user_age': Decimal('18'),\n",
       "  'venue_country': 'CA',\n",
       "  'fb_published': Decimal('0'),\n",
       "  'user_created': Decimal('1361318524'),\n",
       "  'ticket_types': [{'quantity_total': Decimal('18'),\n",
       "    'event_id': Decimal('5766237'),\n",
       "    'cost': '74.21',\n",
       "    'availability': Decimal('1')}],\n",
       "  'org_facebook': '10.0',\n",
       "  'event_end': Decimal('1365136200'),\n",
       "  'payout_type': 'ACH',\n",
       "  'channels': Decimal('4'),\n",
       "  'event_created': Decimal('1362879006'),\n",
       "  'object_id': Decimal('5766237'),\n",
       "  'name_length': Decimal('26'),\n",
       "  'has_analytics': Decimal('1'),\n",
       "  'description': '<p><span lang=\"EN-US\">Jill and her family love all kinds of Asian food. In this class Jill shares some of her family &ldquo;essential&rdquo; dishes, and provide tips on other great dishes using leftovers. She&rsquo;ll make Teriyaki salmon with steamed rice, Korean flank steak and Thai roast chicken. From those key dishes, she&rsquo;ll demonstrate how to make a fabulous Asian spinach salad with salmon in a sesame-soy dressing, beef fresh rolls with organic greens accompanied by a spicy dipping sauce. Last is a super easy &ldquo;Pad Thai&rdquo; chicken pasta. </span></p>',\n",
       "  'org_twitter': '10.0',\n",
       "  'body_length': Decimal('575')},\n",
       " {'currency': 'USD',\n",
       "  'venue_state': 'MD',\n",
       "  'delivery_method': '0.0',\n",
       "  'email_domain': 'workmail.com',\n",
       "  'user_type': Decimal('1'),\n",
       "  'sale_duration': '7.0',\n",
       "  'show_map': Decimal('1'),\n",
       "  'country': 'US',\n",
       "  'name': \"Team Wench's Privateer Feast 2013\",\n",
       "  'venue_latitude': '39.0990544',\n",
       "  'previous_payouts': [],\n",
       "  'listed': 'y',\n",
       "  'has_logo': Decimal('0'),\n",
       "  'venue_address': '161 Ritchie Hwy',\n",
       "  'org_desc': \"<p>Team Wench, Inc. is a Renaissance-themed organization which believes that a small group of individuals can make a difference by pooling their talents and resources. We work both individually and collectively to raise donations for established charities which promote research or provide support to make people's lives healthier and safer.</p>\",\n",
       "  'org_name': 'Team Wench, Inc',\n",
       "  'venue_name': 'Earleigh Heights VFC',\n",
       "  'event_start': Decimal('1362276000'),\n",
       "  'venue_longitude': '-76.5644073',\n",
       "  'event_published': '1361647880.0',\n",
       "  'has_header': None,\n",
       "  'user_age': Decimal('0'),\n",
       "  'venue_country': 'US',\n",
       "  'fb_published': Decimal('0'),\n",
       "  'user_created': Decimal('1361647310'),\n",
       "  'ticket_types': [{'quantity_total': Decimal('25'),\n",
       "    'event_id': Decimal('5602468'),\n",
       "    'cost': '60.0',\n",
       "    'availability': Decimal('1')}],\n",
       "  'org_facebook': '0.0',\n",
       "  'event_end': Decimal('1362292200'),\n",
       "  'payout_type': 'ACH',\n",
       "  'channels': Decimal('8'),\n",
       "  'event_created': Decimal('1361647311'),\n",
       "  'object_id': Decimal('5602468'),\n",
       "  'name_length': Decimal('33'),\n",
       "  'has_analytics': Decimal('0'),\n",
       "  'description': \"<p>Team Wench, Inc. will hold its twelfth annual Privateer Feast on Saturday, March 2, 2013 from 6:00 p.m. until 10:30 p.m. at the Earleigh Heights VFC in Severna Park, Maryland.</p>\\r\\n<p>Be sure not to miss the event of the winter!</p>\\r\\n<p>&bull;Master of Ceremonies Diego Natividad de la Estafa (a.k.a. Dinty the Moor) and a stage full of piratical musical entertainment!<br />&bull;We'll have scores of wonderful new items in our infamous raffle for charity.<br />&bull;This year's menu will include old favorites as well as new additions. The full menu will be posted on the FAQ on the website.<br />&bull;The Grog will flow freely again this year.<br />&bull;This is a not your typical fundraiser. See the What to Bring article under the FAQ on the website for ideas.</p>\\r\\n<p>&nbsp;</p>\\r\\n<p>Restrictions</p>\\r\\n<p><br />Entry into the Event<br />&bull;No one will be admitted without a printed ticket from TicketLeap. <br />&bull;Bring yer ID - All adult guests must bring a valid government-issued photo ID. Guests 21 &amp; over who elect to consume alcohol at the event will be given a wrist band upon age verification to permit the consumption of alcohol. Guests who will not be consuming alcohol will be given a different colored wrist band and granted entrance to the event. Minor children must be accompanied by a parent or guardian at all times.</p>\",\n",
       "  'org_twitter': '0.0',\n",
       "  'body_length': Decimal('1358')}]"
      ]
     },
     "execution_count": 52,
     "metadata": {},
     "output_type": "execute_result"
    }
   ],
   "source": [
    "x['Items']"
   ]
  },
  {
   "cell_type": "code",
   "execution_count": null,
   "metadata": {},
   "outputs": [],
   "source": []
  }
 ],
 "metadata": {
  "kernelspec": {
   "display_name": "Python 3",
   "language": "python",
   "name": "python3"
  },
  "language_info": {
   "codemirror_mode": {
    "name": "ipython",
    "version": 3
   },
   "file_extension": ".py",
   "mimetype": "text/x-python",
   "name": "python",
   "nbconvert_exporter": "python",
   "pygments_lexer": "ipython3",
   "version": "3.6.5"
  }
 },
 "nbformat": 4,
 "nbformat_minor": 2
}
